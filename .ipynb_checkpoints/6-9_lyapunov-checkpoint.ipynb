{
 "cells": [
  {
   "cell_type": "markdown",
   "metadata": {
    "internals": {
     "slide_type": "subslide"
    },
    "slideshow": {
     "slide_type": "slide"
    }
   },
   "source": [
    "# 計算機実習 問題6.9 - ロジスティック写像のリアプノフ指数"
   ]
  },
  {
   "cell_type": "markdown",
   "metadata": {
    "internals": {},
    "slideshow": {
     "slide_type": "-"
    }
   },
   "source": [
    "## シミュレーションの目的"
   ]
  },
  {
   "cell_type": "markdown",
   "metadata": {
    "internals": {},
    "slideshow": {
     "slide_type": "-"
    }
   },
   "source": [
    "系がカオス的かどうか判断する指標として、カオスの重要な性質である初期条件への敏感さを考えることができる。一般に、同一の力学系で異なる初期条件から開始するなら、軌跡差は$n$の関数として変化するであろう。[図1](#fig1)にロジスティック写像における差$|\\Delta x_{n}|$と$n$の関係を図示してある。大まかに言って、$\\ln |\\Delta x_{n}|$は$n$の線形な増加関数であり、このことは、系がカオス的なら軌跡間の距離は指数関数的に大きくなることを意味する。このような発散の特徴は以下に示すリアプノフ(Lyapunov)指数$\\lambda$によって記述され、関係式\n",
    "\n",
    "$$\\Delta x_{n}| = |\\Delta x_{0}|e^{\\lambda n}$$\n",
    "\n",
    "で定義される。ここで$\\Delta x_{n}$は時刻$n$における軌跡間の差である。もしリアプノフ指数$\\lambda$が正なら、近接した軌跡間の距離も指数関数的に広がり、系はカオス的であると言える。本シミュレーションではロジスティック写像について、このリアプノフ指数を求めることを目的とする。\n"
   ]
  },
  {
   "cell_type": "markdown",
   "metadata": {
    "internals": {},
    "slideshow": {
     "slide_type": "-"
    }
   },
   "source": [
    "[fig1]: figure_test.png \"ロジスティック写像における差$|Δx_n|とnの関係\"\n",
    "![figure_test.png][fig1]"
   ]
  },
  {
   "cell_type": "markdown",
   "metadata": {
    "internals": {},
    "slideshow": {
     "slide_type": "-"
    }
   },
   "source": [
    "リアプノフ指数を測定する素朴な方法は、わずかに異なる初期条件のもとで同じ力学系を時間発展させ、$n$の関数として実際に軌跡の差を測定することである。これらの軌跡が互いに離れていく速さは$x_{0}$の選び方によるので、多くの$x_{0}$の値について離れていく速さを計算する必要がある。$x_{0}$の各値に対して距離を式(1)に合わせ、それから$\\lambda$の平均値を求めなければならないので、この方法には手間がかかる。"
   ]
  },
  {
   "cell_type": "markdown",
   "metadata": {
    "internals": {},
    "slideshow": {
     "slide_type": "-"
    }
   },
   "source": [
    "素朴な方法のさらに重大な限界は、軌跡が0から1までの区間に制限されているような場合に、$n$が十分に大きくなると距離$|\\Delta x_{n}|$の値はある一定の大きさ以上には大きくなれなくなってしまうことである。しかし、$\\lambda$の計算を可能な限り正確にするために、可能な限り多くの反復により平均を求めたい。これを実現する方法を説明するために、まず式(1)を変形して、$\\lambda$を\n",
    "\n",
    "$$\\lambda=\\frac{1}{n}\\ln \\left| \\frac{\\Delta x_{n}}{\\Delta x_{0}} \\right|$$\n",
    "\n",
    "と書く。"
   ]
  },
  {
   "cell_type": "markdown",
   "metadata": {
    "internals": {},
    "slideshow": {
     "slide_type": "-"
    }
   },
   "source": [
    "過渡的な振る舞いが終わった後の全軌跡のデータを使いたいので、\n",
    "\n",
    "\\begin{equation}\n",
    "    \\frac{\\Delta x_{n}}{\\Delta x_{0}}=\\frac{\\Delta x_{1}}{\\Delta x_{0}}\\frac{\\Delta x_{2}}{\\Delta x_{1}} \\cdots \n",
    "    \\frac{\\Delta x_{n}}{\\Delta x_{n-1}}\n",
    "\\end{equation}\n",
    "\n",
    "という関係に着目すると、"
   ]
  },
  {
   "cell_type": "markdown",
   "metadata": {
    "internals": {},
    "slideshow": {
     "slide_type": "-"
    }
   },
   "source": [
    "$\\lambda$を\n",
    "\n",
    "\\begin{equation}\n",
    "    \\lambda = \\frac{1}{n}\\sum_{i=0}^{n-1}\\ln \\left| \\frac{\\Delta x_{i+1}}{\\Delta x_{i}} \\right|\n",
    "\\end{equation}\n",
    "\n",
    "と表すことができる。式(2)は、任意の$i$について$x_{i}$を初期条件として考えることができるということを意味している。"
   ]
  },
  {
   "cell_type": "markdown",
   "metadata": {
    "internals": {},
    "slideshow": {
     "slide_type": "-"
    }
   },
   "source": [
    "式(2)から、$\\lambda$を計算する問題は比$\\Delta x_{i+1} / \\Delta x_{i}$を求めることに帰着することが分かる。2つの軌跡間の最初の差を可能な限り小さくしたいので、極限$\\Delta x_{i} \\rightarrow 0$を考えて、微分$dx_{i}$を計算すればよい。例としてロジスティック写像\n",
    "\n",
    "\\begin{equation}\n",
    "    f(x_{i})=4rx_{i}(1-x_{i})\n",
    "\\end{equation}\n",
    "\n",
    "の微分は\n",
    "\n",
    "\\begin{equation}\n",
    "    \\frac{dx_{i+1}}{dx_{i}}=f'(x_{i})= 4r(1-2x_{i})\n",
    "\\end{equation}\n",
    "\n",
    "であるが、問題6.2で行ったようにロジスティック写像の反復を行い、その反復ごとに関係(3)と$x_{i}$の値を使えば、$dx_{i+1}/dx_{i}$を計算することができる。"
   ]
  },
  {
   "cell_type": "markdown",
   "metadata": {
    "internals": {},
    "slideshow": {
     "slide_type": "-"
    }
   },
   "source": [
    "したがってリアプノフ指数は\n",
    "\n",
    "\\begin{equation}\n",
    "    \\lambda = \\lim_{n \\rightarrow \\infty} \\frac{1}{n} \\sum_{i=0}^{n-1} \\ln | f'(x_{i}) |\n",
    "\\end{equation}\n",
    "\n",
    "で与えられることとなる。ここで、式(4)の和は過渡的な振る舞いが終わってからとり始める。$n$を十分に大きく選ぶことを意識するために、式(4)には$n \\rightarrow \\infty$の極限を明示的に書いた。この方法はアトラクタ上の点に正しく重みを付けていて、軌跡がアトラクタのある特定の領域を多くは訪れない場合に、その領域は式(4)の和にあまり寄与しない。\n"
   ]
  },
  {
   "cell_type": "markdown",
   "metadata": {
    "internals": {},
    "slideshow": {
     "slide_type": "-"
    }
   },
   "source": [
    "## 実習課題"
   ]
  },
  {
   "cell_type": "markdown",
   "metadata": {
    "internals": {},
    "slideshow": {
     "slide_type": "-"
    }
   },
   "source": [
    "### 問題 a："
   ]
  },
  {
   "cell_type": "markdown",
   "metadata": {
    "internals": {},
    "slideshow": {
     "slide_type": "-"
    }
   },
   "source": [
    "ロジスティック写像のリアプノフ指数$\\lambda$を素朴な方法で計算せよ。$r=0.91$、$x_{0}=0.5$、 $\\Delta x_{0}=10^{-6}$とし、$\\ln |\\Delta x_{n} / \\Delta x_{0}|$を$n$に対してプロットせよ。$n$が大きいときには$\\ln |\\Delta x_{n} / \\Delta x_{0}|$はどうなるか。$r=0.91$、$r=0.97$、$r=1.0$について$\\lambda$を求めよ。$r$の各値に対する$\\lambda$の値は$x_{0}$や$\\Delta x_{0}$の選び方に強く依存するか。"
   ]
  },
  {
   "cell_type": "code",
   "execution_count": 7,
   "metadata": {
    "collapsed": false
   },
   "outputs": [],
   "source": [
    "%matplotlib inline\n",
    "import matplotlib.pyplot as plt\n",
    "import array as array\n",
    "import numpy as np\n",
    "import scipy.optimize as optimize\n",
    "from IPython.html.widgets import interact\n",
    "from IPython.html import widgets\n",
    "from IPython.display import display"
   ]
  },
  {
   "cell_type": "code",
   "execution_count": 6,
   "metadata": {
    "collapsed": false,
    "internals": {
     "slide_helper": "subslide_end"
    },
    "slide_helper": "slide_end",
    "slideshow": {
     "slide_type": "-"
    }
   },
   "outputs": [
    {
     "data": {
      "image/png": "[encoded data removed]",
      "text/plain": [
       "<matplotlib.figure.Figure at 0x7fdd5e48ef10>"
      ]
     },
     "metadata": {},
     "output_type": "display_data"
    }
   ],
   "source": [
    "def func(x_i, r):\n",
    "    return 4.0 * r * x_i * (1 - x_i)\n",
    "\n",
    "@interact(r={'0.91':0.91, '0.97':0.97, '1.0':1.0}, x0=(0.0, 1.0, 0.01),\\\n",
    "          nmax=(50, 500, 10))\n",
    "def mapping(r, x0=0.5, nmax=200):  # グラフの描画\n",
    "    delta_x0 = 0.000001\n",
    "    x1 = array.array('d')\n",
    "    x1.append(x0)\n",
    "    x2 = array.array('d')\n",
    "    x2.append(x0 + delta_x0)\n",
    "    lya = array.array('d')\n",
    "    for count in range(nmax):\n",
    "        x1.append(func(x1[-1], r))\n",
    "        x2.append(func(x2[-1], r))\n",
    "        l = np.log(abs((x2[-1] - x1[-1]) / delta_x0))\n",
    "        lya.append(l)\n",
    "    n = range(1, nmax + 1)\n",
    "    plt.plot(n, lya,\n",
    "             label=r'$r=$' + str(r) + ' : '\n",
    "             + r'$x_{0}=$' + str(x0) + ' : '\n",
    "             + r'$\\Delta x_{0}=$' + str(delta_x0)\n",
    "             )\n",
    "    plt.gca().set_xlim(0, nmax)\n",
    "    plt.gca().set_ylim(min(lya) - 0.3, max(lya) + 0.3)\n",
    "    plt.xlabel(r'$n$', fontsize=16)\n",
    "    plt.ylabel(r'$\\ln | \\Delta x_{n} / \\Delta x_{0}| $', fontsize=16)\n",
    "    plt.title('Graph of 'r'$\\ln | \\Delta x_{n} / \\Delta x_{0} |$')\n",
    "    plt.legend(loc=\"best\")\n",
    "    plt.show()"
   ]
  },
  {
   "cell_type": "markdown",
   "metadata": {},
   "source": [
    "このグラフから、$\\ln |\\Delta x_{n} / \\Delta x_{0}|$は$1 \\le n \\le 100$の領域では、$n$が大きくなるにつれて大まかに見て線形に増加しており、それ以後$n$が大きいときには$\\ln |\\Delta x_{n} / \\Delta x_{0}|$はおよそ11の周囲で振動していることが分かる。これは、素朴な方法の欠点として前述したとおり、$x_{n}$の値に制限があるような今回の場合においては、仮に$\\Delta x_{n}$が1となり得たとして、\n",
    "\n",
    "\\begin{equation}\n",
    "    \\max \\left( \\ln \\left| \\frac{\\Delta x_{n}}{\\Delta x_{0}} \\right| \\right) = \\ln \\left| \\frac{1}{\\Delta x_{0}} \\right| \\\\\n",
    "\\end{equation}\n",
    "\n",
    "であり、今$\\Delta x_{0} = 10^{-6}$としていたため、$\\max ( \\ln | \\Delta x_{n} / \\Delta x_{0} | ) = 6 \\ln 10 \\simeq 13.8 $となる。ここで得られたグラフと再び比較すると、$\\ln | \\Delta x_{n} / \\Delta x_{0} |$の極大値は12程度であると分かるので、したがって$\\max ( \\Delta x_{n} ) $は実際には$10^{-1}$程度であることも推測される。"
   ]
  },
  {
   "cell_type": "markdown",
   "metadata": {},
   "source": [
    "次に、$r=0.91$、$r=0.97$、$r=1.0$について$\\lambda$を求めることにする。基本的な考え方としては、得られたようなグラフを、さまざまな$x_{0}$について試し、グラフで$\\ln | \\Delta x_{n} / \\Delta x_{0} |$が線形に増加している部分の傾きをその$x_{0}$での$\\lambda$と見ればよい。$\\lambda$の値が$x_{0}$に依存するかどうか確かめるため、また平均値をとって$\\lambda$の精度を高めるために、間隔$dx=0.01$おきの$x_{0}$についてそれぞれ$\\lambda$を求め、横軸を$x_{0}$、縦軸を$\\lambda$としたグラフを描いてみる。"
   ]
  },
  {
   "cell_type": "code",
   "execution_count": 22,
   "metadata": {
    "collapsed": false
   },
   "outputs": [],
   "source": [
    "class CalculateLambda():\n",
    "\n",
    "    def __init__(self, r, delta_x0, dx, nplot):\n",
    "        self.r = r\n",
    "        self.delta_x0 = delta_x0\n",
    "        self.nplot = nplot\n",
    "        self.n = int((1.0 - self.delta_x0) / dx)\n",
    "        self.x0 = np.array([(n + 1) * dx for n in range(self.n)])\n",
    "        self.x0_plus_delta_x0 = self.x0 + self.delta_x0\n",
    "        self.lyapunovs = np.array([self.lambda_for_x0(x1, x2) for x1, x2\n",
    "                                   in zip(self.x0, self.x0_plus_delta_x0)\n",
    "                                   ])\n",
    "\n",
    "    def lambda_for_x0(self, x1, x2):\n",
    "        r = self.r               # - localize\n",
    "        delta_x0 = self.delta_x0  # -\n",
    "        nplot = self.nplot\n",
    "        \n",
    "        def func(x_i):\n",
    "            return 4.0 * r * x_i * (1.0 - x_i)\n",
    "\n",
    "        ary1 = array.array('d')\n",
    "        ary1.append(x1)\n",
    "        ary2 = array.array('d')\n",
    "        ary2.append(x2)\n",
    "        lya = array.array('d')\n",
    "        lya.append(np.log(abs((ary2[-1] - ary1[-1]) / delta_x0)))\n",
    "        for count in range(nplot - 1):\n",
    "            ary1.append(func(ary1[-1]))\n",
    "            ary2.append(func(ary2[-1]))\n",
    "            l = np.log(abs((ary2[-1] - ary1[-1]) / delta_x0))\n",
    "            lya.append(l)\n",
    "\n",
    "        # -- optimize --\n",
    "\n",
    "        def fit_func(parameter0, n, lya):\n",
    "            a = parameter0[0]\n",
    "            b = parameter0[1]\n",
    "            residual = lya - (a * n + b)\n",
    "            return residual\n",
    "\n",
    "        parameter0 = [1.0, 1.0]\n",
    "            # initial value of parameters a, b (ln||=a*n+b)\n",
    "        n = range(1, nplot + 1)\n",
    "        result = optimize.leastsq(fit_func, parameter0,\n",
    "                                  args=(np.array(n), np.array(lya))\n",
    "                                  )\n",
    "        return result[0][0]"
   ]
  },
  {
   "cell_type": "code",
   "execution_count": 23,
   "metadata": {
    "collapsed": false
   },
   "outputs": [],
   "source": [
    "def plot_x0_lambda(r, delta_x0, dx, x0, lyapunovs):\n",
    "    plt.plot(x0, lyapunovs,\n",
    "             label='\\n' + r'$r=$' + str(r) + '\\n'\n",
    "             + '$\\Delta x_{0}\\ (:\\mathrm{width\\ of\\ initial\\ values})=$'\n",
    "             + str(delta_x0) + '\\n'\n",
    "             + '$dx\\ (:\\mathrm{step\\ size\\ of\\ }x_{0})=$'\n",
    "             + str(dx)\n",
    "             )\n",
    "\n",
    "\n",
    "def plot_average_lambda(r, delta_x0, dx, x0, lyapunovs):\n",
    "    ave_lambda = sum(lyapunovs) / len(x0)\n",
    "    plt.plot([0, 1], [ave_lambda] * 2,\n",
    "             label=r'$\\mathrm{average\\ of\\ } \\lambda=$' + str(ave_lambda)\n",
    "             )\n",
    "    plt.gca().set_xlim(0, 1)\n",
    "    plt.gca().set_ylim(min(lyapunovs) - 0.1, max(lyapunovs) + 0.1)\n",
    "    plt.xlabel(r'$x_{0}$', fontsize=16)\n",
    "    plt.ylabel(r'$\\lambda$', fontsize=16)\n",
    "    plt.title('Lyapunov index')\n",
    "    plt.legend(loc=\"best\")"
   ]
  },
  {
   "cell_type": "code",
   "execution_count": 27,
   "metadata": {
    "collapsed": false
   },
   "outputs": [
    {
     "data": {
      "image/png": "[encoded data removed]",
      "text/plain": [
       "<matplotlib.figure.Figure at 0x7fdd5e257990>"
      ]
     },
     "metadata": {},
     "output_type": "display_data"
    },
    {
     "data": {
      "image/png": "[encoded data removed]",
      "text/plain": [
       "<matplotlib.figure.Figure at 0x7fdd59377d90>"
      ]
     },
     "metadata": {},
     "output_type": "display_data"
    }
   ],
   "source": [
    "dx = 0.01\n",
    "delta_x0 = 0.000001\n",
    "@interact(r={'1.0':1.0, '0.97':0.97, '0.91':0.91},\\\n",
    "          x0=(0., 1., dx), nplot=(10, 100, 5))\n",
    "def run(r, x0, nplot=50):\n",
    "    mapping(r, x0, nmax=100)    \n",
    "    calculate = CalculateLambda(r, delta_x0, dx, nplot)\n",
    "    plot_x0_lambda(r, delta_x0, dx, calculate.x0, calculate.lyapunovs)\n",
    "    plot_average_lambda(r, delta_x0, dx, calculate.x0, calculate.lyapunovs)\n",
    "    plt.show()"
   ]
  },
  {
   "cell_type": "markdown",
   "metadata": {},
   "source": [
    "グラフからは、$\\lambda$の値は$x_{0}$に依存して変動しているが、その取る値は平均値の周辺にまとまって分布しており、なにか決まった関係性があるわけではないということが推測される。しかし、$x_{0}=0.5$での$\\lambda$は大きく突出していることに注目する必要があるだろう。"
   ]
  },
  {
   "cell_type": "markdown",
   "metadata": {},
   "source": [
    "では次に、$\\Delta x_{0}$の大きさに関する依存性はどうであろうか。$r=0.97$で固定し、$\\Delta x_{0}$を$\\Delta x_{0} = 10^{-4}$、$10^{-6}$、$10^{-8}$とした場合のグラフを示す。"
   ]
  },
  {
   "cell_type": "code",
   "execution_count": 31,
   "metadata": {
    "collapsed": false
   },
   "outputs": [
    {
     "data": {
      "image/png": "[encoded data removed]",
      "text/plain": [
       "<matplotlib.figure.Figure at 0x7fdd59411710>"
      ]
     },
     "metadata": {},
     "output_type": "display_data"
    },
    {
     "data": {
      "image/png": "[encoded data removed]",
      "text/plain": [
       "<matplotlib.figure.Figure at 0x7fdd59426050>"
      ]
     },
     "metadata": {},
     "output_type": "display_data"
    }
   ],
   "source": [
    "dx = 0.01\n",
    "\n",
    "@interact(r={'1.0':1.0, '0.97':0.97, '0.91':0.91},\\\n",
    "          delta_x0 = {'10^{-8}': 0.00000001, '10^{-6}': 0.000001, '10^{-4}': 0.0001},\\\n",
    "          x0=(0., 1., dx), nplot=(10, 100, 5))\n",
    "def run(r, delta_x0, x0, nplot=50):\n",
    "    mapping(r, x0, nmax=100)\n",
    "    calculate = CalculateLambda(r, delta_x0, dx, nplot)\n",
    "    plot_x0_lambda(r, delta_x0, dx, calculate.x0, calculate.lyapunovs)\n",
    "    plot_average_lambda(r, delta_x0, dx, calculate.x0, calculate.lyapunovs)\n",
    "    plt.show()"
   ]
  },
  {
   "cell_type": "markdown",
   "metadata": {},
   "source": [
    "このグラフからもわかるように、$\\Delta x_{0}$の大きさは、$\\lambda$の値に影響を与えていることがわかる。しかし、これはnplotの選び方が一意でないことと、nplotの大きさが小さいために過渡現象の大きな振動の効果が影響してしまうこととに起因する。これらの考察からも、素朴な方法でリアプノフ指数を求めることの困難さが理解できる。"
   ]
  },
  {
   "cell_type": "markdown",
   "metadata": {},
   "source": [
    "### 問題 b："
   ]
  },
  {
   "cell_type": "markdown",
   "metadata": {},
   "source": [
    "本文で述べたアルゴリズムを用いて、$\\Delta r = 0.01$の刻み幅で、$r=0.76$  から$r=1.0$の範囲について、$\\lambda$を計算せよ。系がカオス的でないとき、$\\lambda$の符号はどうなるか。$\\lambda$を$r$に対してプロットし、問題6.2で得られた分岐図と対応させながら、得られた結果を説明せよ。得られた$\\lambda$の結果を教科書に示されている図6.9と比較せよ。$\\lambda$の符号は分岐図に見られる系の振る舞いとどのような関係があるか。$\\lambda<0$の場合には、2つの軌跡は一致し系はカオス的でなくなる。しかし$\\lambda= 0$では、軌跡はべき$n$で代数的に離れていく。$r$のどの値に対して$\\lambda$は最大になるか。"
   ]
  },
  {
   "cell_type": "markdown",
   "metadata": {},
   "source": [
    "$x_{0}=0.5$のとき$\\Delta r = 0.01$の刻み幅で、$r=0.76$から$r=1.0$の範囲について、$\\lambda$を計算し、その結果を横軸$r$、縦軸$\\lambda$のグラフにプロットした。"
   ]
  },
  {
   "cell_type": "code",
   "execution_count": 32,
   "metadata": {
    "collapsed": false
   },
   "outputs": [
    {
     "data": {
      "image/png": "[encoded data removed]",
      "text/plain": [
       "<matplotlib.figure.Figure at 0x7fdd5e0f2b50>"
      ]
     },
     "metadata": {},
     "output_type": "display_data"
    }
   ],
   "source": [
    "r0 = 0.76\n",
    "rmax = 1.0\n",
    "dr = 0.01\n",
    "ntransient = 1000\n",
    "n_calc = 100000\n",
    "x0 = 0.5\n",
    "\n",
    "nmax = ntransient + n_calc\n",
    "\n",
    "\n",
    "def lambda_for_r():\n",
    "    if (rmax - r0) % dr == 0:\n",
    "        count = int((rmax - r0) / dr) - 1\n",
    "    else:\n",
    "        count = int((rmax - r0) / dr)\n",
    "    r = array.array('f')\n",
    "    _lambda = array.array('f')\n",
    "    for n in range(count + 1):\n",
    "        _r = r0 + dr * n\n",
    "        r.append(_r)\n",
    "        _lambda.append(get_lambda_r(func, _r))\n",
    "    r.append(rmax)\n",
    "    _lambda.append(get_lambda_r(func, rmax))\n",
    "    return r, _lambda\n",
    "\n",
    "\n",
    "def func(x_i, r):\n",
    "    return 4.0 * r * x_i * (1.0 - x_i)\n",
    "\n",
    "\n",
    "def get_lambda_r(function, r):\n",
    "    x = array.array('d')\n",
    "    x.append(x0)\n",
    "    for i in np.arange(nmax):\n",
    "        x.append(function(x[i], r))\n",
    "\n",
    "    def operate(cx):\n",
    "        return np.log(abs(4.0 * r * (1.0 - 2.0 * cx)))\n",
    "\n",
    "    cutted_x = x[ntransient:nmax]\n",
    "    edited_x = map(operate, cutted_x)\n",
    "    lambda_r = sum(edited_x) / len(edited_x)\n",
    "    return lambda_r\n",
    "\n",
    "r_and_lambda = lambda_for_r()\n",
    "plt.gca().set_xlim(r0, rmax)\n",
    "plt.gca().set_ylim(-2.0, 1.0)\n",
    "plt.scatter(r_and_lambda[0], r_and_lambda[1], color='b', s=0.5, marker='.')\n",
    "plt.plot([r0, rmax], [0, 0], 'r--')\n",
    "plt.xlabel(r'$r$', fontsize=16)\n",
    "plt.ylabel(r'$\\lambda$', fontsize=16)\n",
    "plt.title('Lyapunov index')\n",
    "plt.show()"
   ]
  },
  {
   "cell_type": "markdown",
   "metadata": {},
   "source": [
    "また、さらに$\\Delta r$を小さくして$\\Delta r = 0.0001$としたものと、問題6.2でロジスティック写像について得られた$r$に関する分岐図($x_{0}=0.5$)とを比較したものを示す。"
   ]
  },
  {
   "cell_type": "markdown",
   "metadata": {},
   "source": [
    "[fig2]: figure_13.png \"rの値に対するリアプノフ指数と系の分岐図の比較\"\n",
    "![figure_13.png][fig2]"
   ]
  },
  {
   "cell_type": "markdown",
   "metadata": {},
   "source": [
    "この図から明らかなように、$r$が負のところでは系はカオス的でなく、窓を形成するような$r$の値においても$\\lambda$の値は負の値である。また、図の中で点線で示したように、$\\lambda=0$のときは、ちょうど系の挙動の分岐点にあたることが見て取れる。はじめの$\\lambda$の定義からも分かるように、この値が負であるということは、初期値がずれていても、十分時間の経過した後には二つの値の間の差はほとんど0に等しくなることを意味し、則ち系の安定性を示している。分岐図だけでは、どの程度の安定性があるかまではわからないが、2つの図を並べて比較すると、$r=0.81$と$r=0.85$では、$r=0.81$の方が系はより安定であることを知ることができる。逆に、$\\lambda$の値が正であるところでは、図の分岐図ではカオス的挙動を示していて、$r=1.0$のときに$\\lambda$の値が最大となっている。これも先に述べた$\\lambda$の意味と確かに一致している。これらのことから、系のカオスの度合いを特徴づける指標としてリアプノフ指数が適当であることが理解できる。"
   ]
  },
  {
   "cell_type": "markdown",
   "metadata": {},
   "source": [
    "## まとめ"
   ]
  },
  {
   "cell_type": "markdown",
   "metadata": {},
   "source": [
    "ロジスティック写像のリアプノフ指数を、素朴な方法で、またアルゴリズムを用いて計算することで、系のカオス的であることを表す指標としてのリアプノフ指数について理解を深めることができた。素朴な方法で求める際に、線形近似の適用範囲をどのようにして決めるかという問題に対して有効な方法を見いだせなかったが、そもそも精度よくリアプノフ指数を求めるには違ったアプローチをする必要があるということの理解の助けともなった。問題に対して、素朴な方法で解決するのが難しいと思われる場合、解析的に変形ができないか考えることの重要性を再認識できた。"
   ]
  },
  {
   "cell_type": "markdown",
   "metadata": {},
   "source": [
    "## 参考文献"
   ]
  },
  {
   "cell_type": "markdown",
   "metadata": {},
   "source": [
    "ハーベイ・ゴールド,ジャン・トボチニク,石川正勝・宮島佐介訳『計算物理学入\n",
    "            門』,ピアソン・エデュケーション, 2000."
   ]
  }
 ],
 "metadata": {
  "kernelspec": {
   "display_name": "Python 2",
   "language": "python",
   "name": "python2"
  },
  "language_info": {
   "codemirror_mode": {
    "name": "ipython",
    "version": 2
   },
   "file_extension": ".py",
   "mimetype": "text/x-python",
   "name": "python",
   "nbconvert_exporter": "python",
   "pygments_lexer": "ipython2",
   "version": "2.7.6"
  }
 },
 "nbformat": 4,
 "nbformat_minor": 0
}
