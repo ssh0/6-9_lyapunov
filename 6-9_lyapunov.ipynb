{
 "metadata": {
  "name": "",
  "signature": "sha256:3803c9812516417cf1f85ccf8abdd78ad7739eac058d61b623041c9c1bb40f44"
 },
 "nbformat": 3,
 "nbformat_minor": 0,
 "worksheets": [
  {
   "cells": [
    {
     "cell_type": "heading",
     "level": 1,
     "metadata": {},
     "source": [
      "\u8a08\u7b97\u6a5f\u5b9f\u7fd2 \u554f\u984c6.9 - \u30ed\u30b8\u30b9\u30c6\u30a3\u30c3\u30af\u5199\u50cf\u306e\u30ea\u30a2\u30d7\u30ce\u30d5\u6307\u6570"
     ]
    },
    {
     "cell_type": "heading",
     "level": 2,
     "metadata": {},
     "source": [
      "\u30b7\u30df\u30e5\u30ec\u30fc\u30b7\u30e7\u30f3\u306e\u76ee\u7684"
     ]
    },
    {
     "cell_type": "markdown",
     "metadata": {},
     "source": [
      "\u7cfb\u304c\u30ab\u30aa\u30b9\u7684\u304b\u3069\u3046\u304b\u5224\u65ad\u3059\u308b\u6307\u6a19\u3068\u3057\u3066\u3001\u30ab\u30aa\u30b9\u306e\u91cd\u8981\u306a\u6027\u8cea\u3067\u3042\u308b\u521d\u671f\u6761\u4ef6\u3078\u306e\u654f\u611f\u3055\u3092\u8003\u3048\u308b\u3053\u3068\u304c\u3067\u304d\u308b\u3002\u4e00\u822c\u306b\u3001\u540c\u4e00\u306e\u529b\u5b66\u7cfb\u3067\u7570\u306a\u308b\u521d\u671f\u6761\u4ef6\u304b\u3089\u958b\u59cb\u3059\u308b\u306a\u3089\u3001\u8ecc\u8de1\u5dee\u306f$n$\u306e\u95a2\u6570\u3068\u3057\u3066\u5909\u5316\u3059\u308b\u3067\u3042\u308d\u3046\u3002[\u56f31](#fig1)\u306b\u30ed\u30b8\u30b9\u30c6\u30a3\u30c3\u30af\u5199\u50cf\u306b\u304a\u3051\u308b\u5dee$|\\Delta x_{n}|$\u3068$n$\u306e\u95a2\u4fc2\u3092\u56f3\u793a\u3057\u3066\u3042\u308b\u3002\u5927\u307e\u304b\u306b\u8a00\u3063\u3066\u3001$\\ln |\\Delta x_{n}|$\u306f$n$\u306e\u7dda\u5f62\u306a\u5897\u52a0\u95a2\u6570\u3067\u3042\u308a\u3001\u3053\u306e\u3053\u3068\u306f\u3001\u7cfb\u304c\u30ab\u30aa\u30b9\u7684\u306a\u3089\u8ecc\u8de1\u9593\u306e\u8ddd\u96e2\u306f\u6307\u6570\u95a2\u6570\u7684\u306b\u5927\u304d\u304f\u306a\u308b\u3053\u3068\u3092\u610f\u5473\u3059\u308b\u3002\u3053\u306e\u3088\u3046\u306a\u767a\u6563\u306e\u7279\u5fb4\u306f\u4ee5\u4e0b\u306b\u793a\u3059\u30ea\u30a2\u30d7\u30ce\u30d5(Lyapunov)\u6307\u6570$\\lambda$\u306b\u3088\u3063\u3066\u8a18\u8ff0\u3055\u308c\u3001\u95a2\u4fc2\u5f0f\n",
      "\n",
      "\\begin{equation}\n",
      "    |\\Delta x_{n}| = |\\Delta x_{0}|e^{\\lambda n}\n",
      "\\end{equation}\n",
      "\n",
      "\u3067\u5b9a\u7fa9\u3055\u308c\u308b\u3002\u3053\u3053\u3067$\\Delta x_{n}$\u306f\u6642\u523b$n$\u306b\u304a\u3051\u308b\u8ecc\u8de1\u9593\u306e\u5dee\u3067\u3042\u308b\u3002\u3082\u3057\u30ea\u30a2\u30d7\u30ce\u30d5\u6307\u6570$\\lambda$\u304c\u6b63\u306a\u3089\u3001\u8fd1\u63a5\u3057\u305f\u8ecc\u8de1\u9593\u306e\u8ddd\u96e2\u3082\u6307\u6570\u95a2\u6570\u7684\u306b\u5e83\u304c\u308a\u3001\u7cfb\u306f\u30ab\u30aa\u30b9\u7684\u3067\u3042\u308b\u3068\u8a00\u3048\u308b\u3002\u672c\u30b7\u30df\u30e5\u30ec\u30fc\u30b7\u30e7\u30f3\u3067\u306f\u30ed\u30b8\u30b9\u30c6\u30a3\u30c3\u30af\u5199\u50cf\u306b\u3064\u3044\u3066\u3001\u3053\u306e\u30ea\u30a2\u30d7\u30ce\u30d5\u6307\u6570\u3092\u6c42\u3081\u308b\u3053\u3068\u3092\u76ee\u7684\u3068\u3059\u308b\u3002\n"
     ]
    },
    {
     "cell_type": "markdown",
     "metadata": {},
     "source": [
      "[fig1]: figure_test.png \"\u30ed\u30b8\u30b9\u30c6\u30a3\u30c3\u30af\u5199\u50cf\u306b\u304a\u3051\u308b\u5dee$|\u0394x_n|\u3068n\u306e\u95a2\u4fc2\"\n",
      "![figure_test.png][fig1]"
     ]
    },
    {
     "cell_type": "markdown",
     "metadata": {},
     "source": [
      "\u30ea\u30a2\u30d7\u30ce\u30d5\u6307\u6570\u3092\u6e2c\u5b9a\u3059\u308b\u7d20\u6734\u306a\u65b9\u6cd5\u306f\u3001\u308f\u305a\u304b\u306b\u7570\u306a\u308b\u521d\u671f\u6761\u4ef6\u306e\u3082\u3068\u3067\u540c\u3058\u529b\u5b66\u7cfb\u3092\u6642\u9593\u767a\u5c55\u3055\u305b\u3001$n$\u306e\u95a2\u6570\u3068\u3057\u3066\u5b9f\u969b\u306b\u8ecc\u8de1\u306e\u5dee\u3092\u6e2c\u5b9a\u3059\u308b\u3053\u3068\u3067\u3042\u308b\u3002\u3053\u308c\u3089\u306e\u8ecc\u8de1\u304c\u4e92\u3044\u306b\u96e2\u308c\u3066\u3044\u304f\u901f\u3055\u306f$x_{0}$\u306e\u9078\u3073\u65b9\u306b\u3088\u308b\u306e\u3067\u3001\u591a\u304f\u306e$x_{0}$\u306e\u5024\u306b\u3064\u3044\u3066\u96e2\u308c\u3066\u3044\u304f\u901f\u3055\u3092\u8a08\u7b97\u3059\u308b\u5fc5\u8981\u304c\u3042\u308b\u3002$x_{0}$\u306e\u5404\u5024\u306b\u5bfe\u3057\u3066\u8ddd\u96e2\u3092\u5f0f(1)\u306b\u5408\u308f\u305b\u3001\u305d\u308c\u304b\u3089$\\lambda$\u306e\u5e73\u5747\u5024\u3092\u6c42\u3081\u306a\u3051\u308c\u3070\u306a\u3089\u306a\u3044\u306e\u3067\u3001\u3053\u306e\u65b9\u6cd5\u306b\u306f\u624b\u9593\u304c\u304b\u304b\u308b\u3002"
     ]
    },
    {
     "cell_type": "markdown",
     "metadata": {},
     "source": [
      "\u7d20\u6734\u306a\u65b9\u6cd5\u306e\u3055\u3089\u306b\u91cd\u5927\u306a\u9650\u754c\u306f\u3001\u8ecc\u8de1\u304c0\u304b\u30891\u307e\u3067\u306e\u533a\u9593\u306b\u5236\u9650\u3055\u308c\u3066\u3044\u308b\u3088\u3046\u306a\u5834\u5408\u306b\u3001$n$\u304c\u5341\u5206\u306b\u5927\u304d\u304f\u306a\u308b\u3068\u8ddd\u96e2$|\\Delta x_{n}|$\u306e\u5024\u306f\u3042\u308b\u4e00\u5b9a\u306e\u5927\u304d\u3055\u4ee5\u4e0a\u306b\u306f\u5927\u304d\u304f\u306a\u308c\u306a\u304f\u306a\u3063\u3066\u3057\u307e\u3046\u3053\u3068\u3067\u3042\u308b\u3002\u3057\u304b\u3057\u3001$\\lambda$\u306e\u8a08\u7b97\u3092\u53ef\u80fd\u306a\u9650\u308a\u6b63\u78ba\u306b\u3059\u308b\u305f\u3081\u306b\u3001\u53ef\u80fd\u306a\u9650\u308a\u591a\u304f\u306e\u53cd\u5fa9\u306b\u3088\u308a\u5e73\u5747\u3092\u6c42\u3081\u305f\u3044\u3002\u3053\u308c\u3092\u5b9f\u73fe\u3059\u308b\u65b9\u6cd5\u3092\u8aac\u660e\u3059\u308b\u305f\u3081\u306b\u3001\u307e\u305a\u5f0f(1)\u3092\u5909\u5f62\u3057\u3066\u3001$\\lambda$\u3092\n",
      "\n",
      "\\begin{equation}\n",
      "    \\lambda=\\frac{1}{n}\\ln \\left| \\frac{\\Delta x_{n}}{\\Delta x_{0}} \\right|\n",
      "\\end{equation}\n",
      "\n",
      "\u3068\u66f8\u304f\u3002"
     ]
    },
    {
     "cell_type": "markdown",
     "metadata": {},
     "source": [
      "\u904e\u6e21\u7684\u306a\u632f\u308b\u821e\u3044\u304c\u7d42\u308f\u3063\u305f\u5f8c\u306e\u5168\u8ecc\u8de1\u306e\u30c7\u30fc\u30bf\u3092\u4f7f\u3044\u305f\u3044\u306e\u3067\u3001\n",
      "\n",
      "\\begin{equation}\n",
      "    \\frac{\\Delta x_{n}}{\\Delta x_{0}}=\\frac{\\Delta x_{1}}{\\Delta x_{0}}\\frac{\\Delta x_{2}}{\\Delta x_{1}} \\cdots \n",
      "    \\frac{\\Delta x_{n}}{\\Delta x_{n-1}}\n",
      "\\end{equation}\n",
      "\n",
      "\u3068\u3044\u3046\u95a2\u4fc2\u306b\u7740\u76ee\u3059\u308b\u3068\u3001"
     ]
    },
    {
     "cell_type": "markdown",
     "metadata": {},
     "source": [
      "$\\lambda$\u3092\n",
      "\n",
      "\\begin{equation}\n",
      "    \\lambda = \\frac{1}{n}\\sum_{i=0}^{n-1}\\ln \\left| \\frac{\\Delta x_{i+1}}{\\Delta x_{i}} \\right|\n",
      "\\end{equation}\n",
      "\n",
      "\u3068\u8868\u3059\u3053\u3068\u304c\u3067\u304d\u308b\u3002\u5f0f(2)\u306f\u3001\u4efb\u610f\u306e$i$\u306b\u3064\u3044\u3066$x_{i}$\u3092\u521d\u671f\u6761\u4ef6\u3068\u3057\u3066\u8003\u3048\u308b\u3053\u3068\u304c\u3067\u304d\u308b\u3068\u3044\u3046\u3053\u3068\u3092\u610f\u5473\u3057\u3066\u3044\u308b\u3002"
     ]
    },
    {
     "cell_type": "markdown",
     "metadata": {},
     "source": [
      "\u5f0f(2)\u304b\u3089\u3001$\\lambda$\u3092\u8a08\u7b97\u3059\u308b\u554f\u984c\u306f\u6bd4$\\Delta x_{i+1} / \\Delta x_{i}$\u3092\u6c42\u3081\u308b\u3053\u3068\u306b\u5e30\u7740\u3059\u308b\u3053\u3068\u304c\u5206\u304b\u308b\u30022\u3064\u306e\u8ecc\u8de1\u9593\u306e\u6700\u521d\u306e\u5dee\u3092\u53ef\u80fd\u306a\u9650\u308a\u5c0f\u3055\u304f\u3057\u305f\u3044\u306e\u3067\u3001\u6975\u9650$\\Delta x_{i} \\rightarrow 0$\u3092\u8003\u3048\u3066\u3001\u5fae\u5206$dx_{i}$\u3092\u8a08\u7b97\u3059\u308c\u3070\u3088\u3044\u3002\u4f8b\u3068\u3057\u3066\u30ed\u30b8\u30b9\u30c6\u30a3\u30c3\u30af\u5199\u50cf\n",
      "\\begin{equation}\n",
      "    f(x_{i})=4rx_{i}(1-x_{i})\n",
      "\\end{equation}\n",
      "\u306e\u5fae\u5206\u306f\n",
      "\\begin{equation}\n",
      "    \\frac{dx_{i+1}}{dx_{i}}=f'(x_{i})= 4r(1-2x_{i})\n",
      "\\end{equation}\n",
      "\u3067\u3042\u308b\u304c\u3001\u554f\u984c6.2\u3067\u884c\u3063\u305f\u3088\u3046\u306b\u30ed\u30b8\u30b9\u30c6\u30a3\u30c3\u30af\u5199\u50cf\u306e\u53cd\u5fa9\u3092\u884c\u3044\u3001\u305d\u306e\u53cd\u5fa9\u3054\u3068\u306b\u95a2\u4fc2(3)\u3068$x_{i}$\u306e\u5024\u3092\u4f7f\u3048\u3070\u3001$dx_{i+1}/dx_{i}$\u3092\u8a08\u7b97\u3059\u308b\u3053\u3068\u304c\u3067\u304d\u308b\u3002"
     ]
    },
    {
     "cell_type": "markdown",
     "metadata": {},
     "source": [
      "\u3057\u305f\u304c\u3063\u3066\u30ea\u30a2\u30d7\u30ce\u30d5\u6307\u6570\u306f\n",
      "\\begin{equation}\n",
      "    \\lambda = \\lim_{n \\rightarrow \\infty} \\frac{1}{n} \\sum_{i=0}^{n-1} \\ln | f'(x_{i}) |\n",
      "\\end{equation}\n",
      "\u3067\u4e0e\u3048\u3089\u308c\u308b\u3053\u3068\u3068\u306a\u308b\u3002\u3053\u3053\u3067\u3001\u5f0f(4)\u306e\u548c\u306f\u904e\u6e21\u7684\u306a\u632f\u308b\u821e\u3044\u304c\u7d42\u308f\u3063\u3066\u304b\u3089\u3068\u308a\u59cb\u3081\u308b\u3002$n$\u3092\u5341\u5206\u306b\u5927\u304d\u304f\u9078\u3076\u3053\u3068\u3092\u610f\u8b58\u3059\u308b\u305f\u3081\u306b\u3001\u5f0f(4)\u306b\u306f$n \\rightarrow \\infty$\u306e\u6975\u9650\u3092\u660e\u793a\u7684\u306b\u66f8\u3044\u305f\u3002\u3053\u306e\u65b9\u6cd5\u306f\u30a2\u30c8\u30e9\u30af\u30bf\u4e0a\u306e\u70b9\u306b\u6b63\u3057\u304f\u91cd\u307f\u3092\u4ed8\u3051\u3066\u3044\u3066\u3001\u8ecc\u8de1\u304c\u30a2\u30c8\u30e9\u30af\u30bf\u306e\u3042\u308b\u7279\u5b9a\u306e\u9818\u57df\u3092\u591a\u304f\u306f\u8a2a\u308c\u306a\u3044\u5834\u5408\u306b\u3001\u305d\u306e\u9818\u57df\u306f\u5f0f(4)\u306e\u548c\u306b\u3042\u307e\u308a\u5bc4\u4e0e\u3057\u306a\u3044\u3002\n"
     ]
    },
    {
     "cell_type": "heading",
     "level": 2,
     "metadata": {},
     "source": [
      "\u5b9f\u7fd2\u8ab2\u984c"
     ]
    },
    {
     "cell_type": "heading",
     "level": 3,
     "metadata": {},
     "source": [
      "\u554f\u984c a\uff1a"
     ]
    },
    {
     "cell_type": "markdown",
     "metadata": {},
     "source": [
      "\u30ed\u30b8\u30b9\u30c6\u30a3\u30c3\u30af\u5199\u50cf\u306e\u30ea\u30a2\u30d7\u30ce\u30d5\u6307\u6570$\\lambda$\u3092\u7d20\u6734\u306a\u65b9\u6cd5\u3067\u8a08\u7b97\u305b\u3088\u3002$r=0.91$\u3001$x_{0}=0.5$\u3001 $\\Delta x_{0}=10^{-6}$\u3068\u3057\u3001$\\ln |\\Delta x_{n} / \\Delta x_{0}|$\u3092$n$\u306b\u5bfe\u3057\u3066\u30d7\u30ed\u30c3\u30c8\u305b\u3088\u3002$n$\u304c\u5927\u304d\u3044\u3068\u304d\u306b\u306f$\\ln |\\Delta x_{n} / \\Delta x_{0}|$\u306f\u3069\u3046\u306a\u308b\u304b\u3002$r=0.91$\u3001$r=0.97$\u3001$r=1.0$\u306b\u3064\u3044\u3066$\\lambda$\u3092\u6c42\u3081\u3088\u3002$r$\u306e\u5404\u5024\u306b\u5bfe\u3059\u308b$\\lambda$\u306e\u5024\u306f$x_{0}$\u3084$\\Delta x_{0}$\u306e\u9078\u3073\u65b9\u306b\u5f37\u304f\u4f9d\u5b58\u3059\u308b\u304b\u3002"
     ]
    },
    {
     "cell_type": "code",
     "collapsed": false,
     "input": [
      "%matplotlib inline\n",
      "import matplotlib.pyplot as plt\n",
      "import array as array\n",
      "import numpy as np\n",
      "from IPython.html.widgets import interactive\n",
      "from IPython.html import widgets\n",
      "from IPython.display import display"
     ],
     "language": "python",
     "metadata": {},
     "outputs": []
    },
    {
     "cell_type": "code",
     "collapsed": false,
     "input": [
      "def func(x_i, r):\n",
      "    return 4.0 * r * x_i * (1 - x_i)\n",
      "\n",
      "@interact(r=(0.0, 1.0, 0.01), x0=(0.0, 1.0, 0.01), nmax=(50, 500, 10))\n",
      "def mapping(r, x0, nmax):  # \u30b0\u30e9\u30d5\u306e\u63cf\u753b\n",
      "    delta_x0 = 0.000001\n",
      "    x1 = array.array('d')\n",
      "    x1.append(x0)\n",
      "    x2 = array.array('d')\n",
      "    x2.append(x0 + delta_x0)\n",
      "    lya = array.array('d')\n",
      "    for count in range(nmax):\n",
      "        x1.append(func(x1[-1], r))\n",
      "        x2.append(func(x2[-1], r))\n",
      "        l = np.log(abs((x2[-1] - x1[-1]) / delta_x0))\n",
      "        lya.append(l)\n",
      "    n = range(1, nmax + 1)\n",
      "    plt.plot(n, lya,\n",
      "             label=r'$r=$' + str(r) + ' : '\n",
      "             + r'$x_{0}=$' + str(x0) + ' : '\n",
      "             + r'$\\Delta x_{0}=$' + str(delta_x0)\n",
      "             )\n",
      "    plt.gca().set_xlim(0, nmax)\n",
      "    plt.gca().set_ylim(min(lya) - 0.3, max(lya) + 0.3)\n",
      "    plt.xlabel(r'$n$', fontsize=16)\n",
      "    plt.ylabel(r'$\\ln | \\Delta x_{n} / \\Delta x_{0}| $', fontsize=16)\n",
      "    plt.title('Graph of 'r'$\\ln | \\Delta x_{n} / \\Delta x_{0} |$')\n",
      "    plt.legend(loc=\"best\")\n",
      "    plt.show()"
     ],
     "language": "python",
     "metadata": {},
     "outputs": []
    }
   ],
   "metadata": {}
  }
 ]
}